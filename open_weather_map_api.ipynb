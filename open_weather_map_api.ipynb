{
 "cells": [
  {
   "cell_type": "code",
   "execution_count": 37,
   "metadata": {},
   "outputs": [
    {
     "data": {
      "text/plain": [
       "<pyowm.weatherapi25.weather.Weather - reference_time=2024-01-31 02:09:26+00:00, status=clouds, detailed_status=overcast clouds>"
      ]
     },
     "execution_count": 37,
     "metadata": {},
     "output_type": "execute_result"
    }
   ],
   "source": [
    "from pyowm import OWM\n",
    "from pyowm.utils import config\n",
    "from pyowm.utils import timestamps\n",
    "from dotenv import load_dotenv\n",
    "import os\n",
    "\n",
    "# ---------- FREE API KEY examples ---------------------\n",
    "load_dotenv()\n",
    "owm_key = os.environ['API_KEY']\n",
    "owm = OWM(owm_key)\n",
    "mgr = owm.weather_manager()\n",
    "\n",
    "\n",
    "# Search for current weather in London (Great Britain) and get details\n",
    "my_city_id = 4464368\n",
    "observation = mgr.weather_at_id(my_city_id)\n",
    "w = observation.weather\n",
    "w\n"
   ]
  },
  {
   "cell_type": "code",
   "execution_count": 7,
   "metadata": {},
   "outputs": [
    {
     "name": "stdout",
     "output_type": "stream",
     "text": [
      "[(4464368, 'Durham', 'US', 'NC', 35.99403, -78.898621)]\n"
     ]
    }
   ],
   "source": [
    "reg = owm.city_id_registry()\n",
    "list_of_tuples = london = reg.ids_for('Durham', country='US', state='NC', matching='exact')\n",
    "print(list_of_tuples) "
   ]
  },
  {
   "cell_type": "code",
   "execution_count": 17,
   "metadata": {},
   "outputs": [
    {
     "name": "stdout",
     "output_type": "stream",
     "text": [
      "Clouds\n",
      "broken clouds\n",
      "{'temp': 40.73, 'temp_max': 44.1, 'temp_min': 37.67, 'feels_like': 38.7, 'temp_kf': None}\n",
      "79\n",
      "{'speed': 1.54, 'deg': 60}\n",
      "{}\n",
      "None\n",
      "75\n",
      "803\n",
      "2024-01-31 01:52:22+00:00\n",
      "2024-01-30 12:18:05+00:00\n",
      "2024-01-30 22:39:22+00:00\n",
      "10000\n"
     ]
    }
   ],
   "source": [
    "print(w.status)\n",
    "print(w.detailed_status)\n",
    "\n",
    "print(w.temperature('fahrenheit'))\n",
    "print(w.humidity)\n",
    "print(w.wind())\n",
    "print(w.rain)\n",
    "print(w.heat_index)\n",
    "print(w.clouds)\n",
    "\n",
    "print(w.weather_code)\n",
    "print(w.reference_time('iso'))\n",
    "print(w.sunrise_time('iso'))\n",
    "print(w.sunset_time('iso'))\n",
    "print(w.visibility_distance)\n"
   ]
  },
  {
   "cell_type": "code",
   "execution_count": null,
   "metadata": {},
   "outputs": [],
   "source": []
  }
 ],
 "metadata": {
  "kernelspec": {
   "display_name": "Python 3",
   "language": "python",
   "name": "python3"
  },
  "language_info": {
   "codemirror_mode": {
    "name": "ipython",
    "version": 3
   },
   "file_extension": ".py",
   "mimetype": "text/x-python",
   "name": "python",
   "nbconvert_exporter": "python",
   "pygments_lexer": "ipython3",
   "version": "3.10.13"
  }
 },
 "nbformat": 4,
 "nbformat_minor": 2
}
